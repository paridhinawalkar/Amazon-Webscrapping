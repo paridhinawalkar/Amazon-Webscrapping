{
 "cells": [
  {
   "cell_type": "code",
   "execution_count": 29,
   "id": "cc71269b-30eb-4c06-a6ee-b0fd65997d41",
   "metadata": {},
   "outputs": [],
   "source": [
    "import pandas as pd\n",
    "import requests\n",
    "from bs4 import BeautifulSoup"
   ]
  },
  {
   "cell_type": "code",
   "execution_count": 30,
   "id": "9fd0117a-083e-41ca-a895-fa4594307ef3",
   "metadata": {},
   "outputs": [],
   "source": [
    "headers = {\n",
    "    \"User-Agent\": \"Mozilla/5.0 (Windows NT 10.0; Win64; x64) AppleWebKit/537.36 (KHTML, like Gecko) Chrome/114.0.5735.199 Safari/537.36\",\n",
    "    \"Accept-Language\": \"en-US,en;q=0.9\",\n",
    "}"
   ]
  },
  {
   "cell_type": "code",
   "execution_count": 31,
   "id": "1234c134-da22-4d01-af91-38db69cc1d72",
   "metadata": {},
   "outputs": [],
   "source": [
    "url = \"https://www.amazon.in/s?k=mobile+under+50000+5g+phone&page=2&crid=1L5PO4R427AG9&qid=1732019983&sprefix=%2Caps%2C432&ref=sr_pg_\""
   ]
  },
  {
   "cell_type": "code",
   "execution_count": 32,
   "id": "08bc3c40-db15-47dc-bd14-f0ebd3283af5",
   "metadata": {},
   "outputs": [],
   "source": [
    "requests = requests.get(url, headers=headers)"
   ]
  },
  {
   "cell_type": "code",
   "execution_count": 33,
   "id": "b8768651-4cd3-42a5-84f7-0e81c326ff9a",
   "metadata": {},
   "outputs": [
    {
     "name": "stdout",
     "output_type": "stream",
     "text": [
      "200\n"
     ]
    }
   ],
   "source": [
    "print(requests.status_code)"
   ]
  },
  {
   "cell_type": "code",
   "execution_count": 34,
   "id": "0c8da010-de27-4de4-a77e-ca10c8405cb3",
   "metadata": {},
   "outputs": [],
   "source": [
    "box = BeautifulSoup(requests.text,\"lxml\")"
   ]
  },
  {
   "cell_type": "code",
   "execution_count": 35,
   "id": "3dd82705-e3a2-4c2e-86ef-b322029d3c93",
   "metadata": {},
   "outputs": [],
   "source": [
    "soup = box.find(\"div\",{\"class\" : \"s-main-slot s-result-list s-search-results sg-row\"})"
   ]
  },
  {
   "cell_type": "code",
   "execution_count": 36,
   "id": "fd314d30-9031-4084-8847-b5677e7f7030",
   "metadata": {},
   "outputs": [
    {
     "name": "stdout",
     "output_type": "stream",
     "text": [
      "20\n",
      "Samsung Galaxy S23 Ultra 5G AI Smartphone\n",
      "Redmi Note 13 Pro+\n",
      "Samsung Galaxy M15 5G Prime Edition\n",
      "realme NARZO 70x 5G\n",
      "HONOR 200 5G\n",
      "POCO M6 5G, Orion Blue\n",
      "Oneplus Nord CE4\n",
      "TECNO Phantom X2 Pro 5G Mars Orange\n",
      "POCO M6 5G\n",
      "Motorola g64 5G\n",
      "Lava Agni 3 5G\n",
      "Redmi Note 13 Pro\n",
      "realme GT 6T 5G\n",
      "Samsung Galaxy M15 5G Prime Edition\n",
      "OnePlus Nord 4 5G\n",
      "Samsung Galaxy M15 5G Prime Edition\n",
      "realme GT 6T 5G\n",
      "OnePlus Nord CE 3 5G\n",
      "Vivo V40e 5G AI Smartphone\n",
      "Samsung Galaxy A35 5G\n"
     ]
    }
   ],
   "source": [
    "Product = soup.find_all(\"span\",{\"class\" : \"a-size-medium a-color-base a-text-normal\"})\n",
    "\n",
    "Product_name = []\n",
    "\n",
    "print(len(Product))\n",
    "\n",
    "for i in Product :\n",
    "    name = i.text.split(\"(\")[0].strip()\n",
    "    print(name)\n",
    "    Product_name.append(name)"
   ]
  },
  {
   "cell_type": "code",
   "execution_count": 37,
   "id": "885193f1-f340-4b86-8805-aa3eddad7d1f",
   "metadata": {},
   "outputs": [
    {
     "name": "stdout",
     "output_type": "stream",
     "text": [
      "20\n",
      "74,990\n",
      "27,999\n",
      "11,999\n",
      "12,998\n",
      "29,999\n",
      "7,998\n",
      "24,999\n",
      "29,999\n",
      "9,999\n",
      "18,188\n",
      "22,499\n",
      "22,999\n",
      "39,998\n",
      "11,999\n",
      "29,999\n",
      "11,999\n",
      "35,998\n",
      "16,999\n",
      "26,379\n",
      "33,999\n"
     ]
    }
   ],
   "source": [
    "Price = soup.find_all(\"span\",{\"class\" : \"a-price-whole\"})\n",
    "\n",
    "price =[]\n",
    "print(len(Price))\n",
    "\n",
    "for i in Price :\n",
    "    price.append(i.text)\n",
    "    print(i.text)"
   ]
  },
  {
   "cell_type": "code",
   "execution_count": 38,
   "id": "c0795265-bcaa-414f-b769-5b1533ccb9fa",
   "metadata": {},
   "outputs": [
    {
     "name": "stdout",
     "output_type": "stream",
     "text": [
      "20\n",
      "Phantom Black, 12GB, 256GB Storage\n",
      "Fusion White, 8GB RAM, 256GB Storage) | World's First Mediatek 7200 Ultra 5G | 200MP Hi-Res Camera | 1.5K Curved AMOLED | 120W HyperCharge\n",
      "Blue Topaz,6GB RAM,128GB Storage) | Super AMOLED Display| 50MP Triple Cam| 6000mAh Battery| MediaTek Dimensity 6100+ | 4 Gen. OS Upgrade & 5 Year Security Update\n",
      "Ice Blue, 6GB RAM,128GB Storage)|120Hz Ultra Smooth Display|Dimensity 6100+ 6nm 5G|50MP AI Camera|45W Charger in The Box\n",
      "Black, 8GB + 256GB) | 6.7-inch AMOLED Quad-Curved Display | Dual OIS 50MP + 50MP + 12MP Camera | 50MP Selfie Camera | AI-Powered MagicOS 8.0 | Without Charger\n",
      "4GB, 64GB\n",
      "Celadon Marble, 8GB RAM, 256GB Storage\n",
      "12GB RAM,256GB Storage) | World's 1st Retractable 50MP Portrait Lens | World's 1st 4nm Dimensity 9000 5G Processor\n",
      "Orion Blue, 6GB RAM, 128GB Storage\n",
      "Pearl Blue, 256 GB) \n",
      "Prestine Glass, 8GB+128GB) | India's 1st Dual AMOLED | Dimensity 7300X | 50MP Triple AI Camera | 66W Fast Charge & 5000 mAh Battery | with Charger |Assured Android 15,16 & 17 Upgrades\n",
      "Arctic White, 8GB RAM, 128GB Storage) | 1.5K AMOLED | 200MP Hi-Res Camera | Flagship 4nm SD 7s Gen 2 | 67W TurboCharge\n",
      "Fluid Silver,12GB RAM+512GB Storage) | India's 1st 7+ Gen 3 Flagship Chipset | 1.5M+AnTuTu Score | 5500mAh+120W | The World's Brightest Flagship Display\n",
      "Stone Grey,6GB RAM,128GB Storage)| Super AMOLED Display| 50MP Triple Cam| 6000mAh Battery| MediaTek Dimensity 6100+| 4 Gen. OS Upgrade & 5 Year Security Update\n",
      "Oasis Green, 8GB RAM, 256GB Storage\n",
      "Celestial Blue,6GB RAM,128GB Storage)| Super AMOLED Display| 50MP Triple Cam| 6000mAh Battery| MediaTek Dimensity 6100+| 4 Gen. OS Upgrade & 5 Year Security Update\n",
      "Razor Green,12GB RAM+256GB Storage) | India's 1st 7+ Gen 3 Flagship Chipset | 1.5M+AnTuTu Score | 5500mAh+120W | The World's Brightest Flagship Display\n",
      "Aqua Surge, 8GB RAM, 128GB Storage\n",
      "Royal Bronze, 8GB RAM + 128GB Storge\n",
      "Awesome Iceblue, 8GB RAM, 256GB Storage) | Premium Glass Back | 50 MP Main Camera \n"
     ]
    }
   ],
   "source": [
    "Desc = soup.find_all(\"span\" , {\"class\" : \"a-size-medium a-color-base a-text-normal\"})\n",
    "\n",
    "desc = []\n",
    "print(len(Desc))\n",
    "for i in Desc :\n",
    "    d = i.text.split(\"(\")[1].strip(\")\")\n",
    "    desc.append(d)\n",
    "    print(d)"
   ]
  },
  {
   "cell_type": "code",
   "execution_count": 39,
   "id": "d14377e8-4084-49f9-8b84-861c703586b8",
   "metadata": {},
   "outputs": [
    {
     "name": "stdout",
     "output_type": "stream",
     "text": [
      "20\n",
      "4.5\n",
      "3.8\n",
      "3.9\n",
      "4.0\n",
      "4.1\n",
      "3.8\n",
      "4.2\n",
      "3.7\n",
      "4.0\n",
      "3.8\n",
      "4.3\n",
      "3.9\n",
      "4.3\n",
      "3.9\n",
      "4.2\n",
      "3.9\n",
      "4.3\n",
      "4.2\n",
      "4.3\n",
      "3.9\n"
     ]
    }
   ],
   "source": [
    "Star = soup.find_all(\"span\",{\"class\" : \"a-icon-alt\"})\n",
    "\n",
    "star = []\n",
    "\n",
    "print(len(Star))\n",
    "for i in Star :\n",
    "    s = i.text.split(\" \")[0]\n",
    "    star.append(s)\n",
    "    print(s)"
   ]
  },
  {
   "cell_type": "code",
   "execution_count": 40,
   "id": "d5a6faed-e9b6-41a4-aa62-5d92096a6a09",
   "metadata": {},
   "outputs": [
    {
     "name": "stdout",
     "output_type": "stream",
     "text": [
      "20\n",
      "2,588\n",
      "899\n",
      "849\n",
      "3,604\n",
      "724\n",
      "60\n",
      "6,120\n",
      "237\n",
      "416\n",
      "112\n",
      "264\n",
      "1,476\n",
      "2,642\n",
      "849\n",
      "1,639\n",
      "849\n",
      "2,642\n",
      "5,357\n",
      "16\n",
      "64\n"
     ]
    }
   ],
   "source": [
    "Rating = soup.find_all(\"span\",{\"class\" : \"a-size-base s-underline-text\"})\n",
    "\n",
    "rate =[]\n",
    "print(len(Rating))\n",
    "\n",
    "for i in Rating :\n",
    "    print(i.text)\n",
    "    rate.append(i.text)"
   ]
  },
  {
   "cell_type": "code",
   "execution_count": 41,
   "id": "d9842b1f-ef32-4e6a-a46f-e903e80157f7",
   "metadata": {},
   "outputs": [
    {
     "name": "stdout",
     "output_type": "stream",
     "text": [
      "20\n",
      "28 Nov \n",
      "27 Nov \n",
      "27 Nov \n",
      "28 Nov \n",
      "28 Nov \n",
      "27 Nov \n",
      "27 Nov \n",
      "27 Nov \n",
      "29 Nov \n",
      "29 Nov \n",
      "28 Nov \n",
      "28 Nov \n",
      "28 Nov \n",
      "27 Nov \n",
      "28 Nov \n",
      "27 Nov \n",
      "28 Nov \n",
      "1 Dec \n",
      "28 Nov \n",
      "27 Nov \n"
     ]
    }
   ],
   "source": [
    "Deliver = soup.find_all(\"span\",{\"class\" : [\"a-color-base\",\"a-color-base a-text-bold\"]})\n",
    "\n",
    "col = []\n",
    "\n",
    "for i in Deliver:\n",
    "    col.append(i.text)\n",
    "    \n",
    "#print(col)\n",
    "\n",
    "data=[] \n",
    "\n",
    "for i in range(len(col)) :\n",
    "    if col[i] ==\"FREE delivery \" and i+1<len(col) :\n",
    "        data.append(col[i+1])\n",
    "\n",
    "print(len(data))\n",
    "\n",
    "date = []\n",
    "\n",
    "for i in data :\n",
    "    q=i.split(\", \")[1]\n",
    "    date.append(q)\n",
    "    print(q)"
   ]
  },
  {
   "cell_type": "code",
   "execution_count": 42,
   "id": "13606746-b664-4f41-bf93-32077802288f",
   "metadata": {},
   "outputs": [
    {
     "name": "stdout",
     "output_type": "stream",
     "text": [
      "                                      Product   Price  \\\n",
      "0   Samsung Galaxy S23 Ultra 5G AI Smartphone  74,990   \n",
      "1                          Redmi Note 13 Pro+  27,999   \n",
      "2         Samsung Galaxy M15 5G Prime Edition  11,999   \n",
      "3                         realme NARZO 70x 5G  12,998   \n",
      "4                                HONOR 200 5G  29,999   \n",
      "5                      POCO M6 5G, Orion Blue   7,998   \n",
      "6                            Oneplus Nord CE4  24,999   \n",
      "7         TECNO Phantom X2 Pro 5G Mars Orange  29,999   \n",
      "8                                  POCO M6 5G   9,999   \n",
      "9                             Motorola g64 5G  18,188   \n",
      "10                             Lava Agni 3 5G  22,499   \n",
      "11                          Redmi Note 13 Pro  22,999   \n",
      "12                            realme GT 6T 5G  39,998   \n",
      "13        Samsung Galaxy M15 5G Prime Edition  11,999   \n",
      "14                          OnePlus Nord 4 5G  29,999   \n",
      "15        Samsung Galaxy M15 5G Prime Edition  11,999   \n",
      "16                            realme GT 6T 5G  35,998   \n",
      "17                       OnePlus Nord CE 3 5G  16,999   \n",
      "18                 Vivo V40e 5G AI Smartphone  26,379   \n",
      "19                      Samsung Galaxy A35 5G  33,999   \n",
      "\n",
      "                                          Description Stars Ratings  \\\n",
      "0                  Phantom Black, 12GB, 256GB Storage   4.5   2,588   \n",
      "1   Fusion White, 8GB RAM, 256GB Storage) | World'...   3.8     899   \n",
      "2   Blue Topaz,6GB RAM,128GB Storage) | Super AMOL...   3.9     849   \n",
      "3   Ice Blue, 6GB RAM,128GB Storage)|120Hz Ultra S...   4.0   3,604   \n",
      "4   Black, 8GB + 256GB) | 6.7-inch AMOLED Quad-Cur...   4.1     724   \n",
      "5                                           4GB, 64GB   3.8      60   \n",
      "6              Celadon Marble, 8GB RAM, 256GB Storage   4.2   6,120   \n",
      "7   12GB RAM,256GB Storage) | World's 1st Retracta...   3.7     237   \n",
      "8                  Orion Blue, 6GB RAM, 128GB Storage   4.0     416   \n",
      "9                                Pearl Blue, 256 GB)    3.8     112   \n",
      "10  Prestine Glass, 8GB+128GB) | India's 1st Dual ...   4.3     264   \n",
      "11  Arctic White, 8GB RAM, 128GB Storage) | 1.5K A...   3.9   1,476   \n",
      "12  Fluid Silver,12GB RAM+512GB Storage) | India's...   4.3   2,642   \n",
      "13  Stone Grey,6GB RAM,128GB Storage)| Super AMOLE...   3.9     849   \n",
      "14                Oasis Green, 8GB RAM, 256GB Storage   4.2   1,639   \n",
      "15  Celestial Blue,6GB RAM,128GB Storage)| Super A...   3.9     849   \n",
      "16  Razor Green,12GB RAM+256GB Storage) | India's ...   4.3   2,642   \n",
      "17                 Aqua Surge, 8GB RAM, 128GB Storage   4.2   5,357   \n",
      "18               Royal Bronze, 8GB RAM + 128GB Storge   4.3      16   \n",
      "19  Awesome Iceblue, 8GB RAM, 256GB Storage) | Pre...   3.9      64   \n",
      "\n",
      "   Delivery Date  \n",
      "0        28 Nov   \n",
      "1        27 Nov   \n",
      "2        27 Nov   \n",
      "3        28 Nov   \n",
      "4        28 Nov   \n",
      "5        27 Nov   \n",
      "6        27 Nov   \n",
      "7        27 Nov   \n",
      "8        29 Nov   \n",
      "9        29 Nov   \n",
      "10       28 Nov   \n",
      "11       28 Nov   \n",
      "12       28 Nov   \n",
      "13       27 Nov   \n",
      "14       28 Nov   \n",
      "15       27 Nov   \n",
      "16       28 Nov   \n",
      "17        1 Dec   \n",
      "18       28 Nov   \n",
      "19       27 Nov   \n"
     ]
    }
   ],
   "source": [
    "df = pd.DataFrame({\"Product\" : Product_name , \"Price\" : price , \"Description\" : desc , \"Stars\" : star , \"Ratings\" : rate , \"Delivery Date\" : date})\n",
    "print(df)"
   ]
  },
  {
   "cell_type": "code",
   "execution_count": 44,
   "id": "58547d07-3168-4cb1-9be0-9135dc1eaec7",
   "metadata": {},
   "outputs": [],
   "source": [
    "df.to_excel(\"Amazon Mobile Single page.xlsx\",index=False)"
   ]
  },
  {
   "cell_type": "code",
   "execution_count": null,
   "id": "0fb47af6-55d4-4cba-955e-880e8a037e80",
   "metadata": {},
   "outputs": [],
   "source": []
  },
  {
   "cell_type": "code",
   "execution_count": null,
   "id": "5bc076f8-8321-468a-a2fe-f43d00d671b4",
   "metadata": {},
   "outputs": [],
   "source": []
  }
 ],
 "metadata": {
  "kernelspec": {
   "display_name": "Python 3 (ipykernel)",
   "language": "python",
   "name": "python3"
  },
  "language_info": {
   "codemirror_mode": {
    "name": "ipython",
    "version": 3
   },
   "file_extension": ".py",
   "mimetype": "text/x-python",
   "name": "python",
   "nbconvert_exporter": "python",
   "pygments_lexer": "ipython3",
   "version": "3.12.6"
  }
 },
 "nbformat": 4,
 "nbformat_minor": 5
}
